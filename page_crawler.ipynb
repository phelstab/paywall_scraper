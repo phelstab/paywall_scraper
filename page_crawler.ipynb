{
 "cells": [
  {
   "cell_type": "code",
   "execution_count": null,
   "metadata": {},
   "outputs": [],
   "source": [
    "import requests\n",
    "import pandas as pd\n",
    "import time\n",
    "from bs4 import BeautifulSoup\n",
    "from selenium import webdriver\n",
    "from selenium.webdriver.chrome.options import Options\n",
    "from selenium.webdriver.common.by import By\n",
    "from selenium.webdriver.common.keys import Keys\n",
    "from time import gmtime, strftime\n",
    "import random\n"
   ]
  },
  {
   "cell_type": "code",
   "execution_count": null,
   "metadata": {},
   "outputs": [],
   "source": [
    "\"\"\"\n",
    "    This script is used to crawl the data from the websites with paywall\n",
    "\"\"\"\n",
    "\n",
    "options = Options()\n",
    "options.headless = False\n",
    "options.add_extension('./paywallblocker/bypass-paywalls-chrome.crx')\n",
    "options.add_argument(\"userAgent=Mozilla/5.0 (Windows NT 10.0; Win64; x64) AppleWebKit/537.36 (KHTML, like Gecko) Chrome/104.0.5112.126\")\n",
    "options.add_argument(\"--window-size=1920,1080\")\n",
    "options.add_argument(\"--headless=chrome\")\n",
    "\n",
    "\n",
    "browser = webdriver.Chrome(options=options, executable_path=\"./chromedriver/chromedriver.exe\")\n",
    "\n",
    "\n",
    "\n",
    "\"\"\"\n",
    "    test urls with paywall:\n",
    "    https://www.bloomberg.com/news/articles/2022-10-26/california-ev-ballot-measure-splits-tech-millionaires\n",
    "    https://www.bloomberg.com/news/features/2022-10-13/exxon-xom-jobs-exodus-brings-scrutiny-to-corporate-culture?srnd=businessweek-v2\n",
    "    https://www.bloomberg.com/news/articles/2022-10-26/bank-overdraft-fees-get-fresh-scrutiny-from-us-consumer-watchdog\n",
    "\"\"\"\n",
    "\n",
    "browser.get('https://www.bloomberg.com/news/articles/2022-10-26/california-ev-ballot-measure-splits-tech-millionaires')\n",
    "time.sleep(5)\n",
    "\n"
   ]
  },
  {
   "cell_type": "code",
   "execution_count": null,
   "metadata": {},
   "outputs": [],
   "source": [
    "result_page = browser.page_source\n",
    "# close the browser\n",
    "browser.close()\n",
    "\n",
    "soup = BeautifulSoup(result_page, 'html.parser')"
   ]
  },
  {
   "cell_type": "code",
   "execution_count": null,
   "metadata": {},
   "outputs": [],
   "source": [
    "body_content = soup.find_all('p', class_='paywall')"
   ]
  },
  {
   "cell_type": "code",
   "execution_count": null,
   "metadata": {},
   "outputs": [],
   "source": [
    "for x in body_content:\n",
    "    print(x.text)"
   ]
  }
 ],
 "metadata": {
  "kernelspec": {
   "display_name": "env_scraper",
   "language": "python",
   "name": "python3"
  },
  "language_info": {
   "codemirror_mode": {
    "name": "ipython",
    "version": 3
   },
   "file_extension": ".py",
   "mimetype": "text/x-python",
   "name": "python",
   "nbconvert_exporter": "python",
   "pygments_lexer": "ipython3",
   "version": "3.7.9"
  },
  "orig_nbformat": 4,
  "vscode": {
   "interpreter": {
    "hash": "89f2d59b953c4c2023c1145e9cca88e7eda8322a81b59cd68f3ab262f919017c"
   }
  }
 },
 "nbformat": 4,
 "nbformat_minor": 2
}
